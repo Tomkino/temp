{
 "cells": [
  {
   "cell_type": "code",
   "execution_count": 1,
   "metadata": {},
   "outputs": [],
   "source": [
    "#================================= Start of importing required packages and libraries =========================================#\n",
    "from __future__ import print_function\n",
    "%matplotlib inline\n",
    "import numpy as np\n",
    "import torch\n",
    "from experiment_federated import *\n",
    "import random\n",
    "#================================== End of importing required packages and libraries ==========================================#"
   ]
  },
  {
   "cell_type": "code",
   "execution_count": 2,
   "metadata": {},
   "outputs": [],
   "source": [
    "#=============================== Defining global variables ========================#\n",
    "DATASET_NAME = \"MNIST\"\n",
    "MODEL_NAME = \"CNNMNIST\"\n",
    "DD_TYPE = 'IID'\n",
    "ALPHA = 1000000\n",
    "NUM_PEERS = 100 # \"number of peers: K\" \n",
    "FRAC_PEERS = 1 #'the fraction of peers: C to bel selected in each round'\n",
    "SEED = 7 #fixed seed\n",
    "random.seed(SEED)\n",
    "CRITERION = nn.CrossEntropyLoss()\n",
    "GLOBAL_ROUNDS = 200 #\"number of rounds of federated model training\"\n",
    "LOCAL_EPOCHS = 3 #\"the number of local epochs: E for each peer\"\n",
    "TEST_BATCH_SIZE = 1000\n",
    "LOCAL_BS = 64 #\"local batch size: B for each peer\"\n",
    "LOCAL_LR =  0.001#local learning rate: lr for each peer\n",
    "LOCAL_MOMENTUM = 0.9 #local momentum for each peer\n",
    "NUM_CLASSES = 10 # number of classes in an experiment\n",
    "LABELS_DICT = {'Zero':0,\n",
    "               'One':1, \n",
    "               'Two':2, \n",
    "               'Three':3, \n",
    "               'Four':4,\n",
    "               'Five':5, \n",
    "               'Six':6, \n",
    "               'Seven':7, \n",
    "               'Eight':8, \n",
    "               'Nine':9}\n",
    "\n",
    "#select the device to work with cpu or gpu\n",
    "if torch.cuda.is_available():\n",
    "    DEVICE = \"cuda\"\n",
    "else:\n",
    "    DEVICE = \"cpu\"\n",
    "DEVICE = torch.device(DEVICE)\n",
    "SOURCE_CLASS = 7 # the source class\n",
    "TARGET_CLASS = 1 # the target class \n",
    "\n",
    "CLASS_PER_PEER = 10\n",
    "SAMPLES_PER_CLASS = 582\n",
    "RATE_UNBALANCE = 1"
   ]
  },
  {
   "cell_type": "code",
   "execution_count": null,
   "metadata": {},
   "outputs": [],
   "source": [
    "# Baseline|: FedAvg-no attacks (FL)\n",
    "RULE = 'fedavg'\n",
    "ATTACK_TYPE='gaussian_noise'\n",
    "MALICIOUS_BEHAVIOR_RATE = 1\n",
    "for atr in [0.0, 0.2]:\n",
    "    run_exp(dataset_name = DATASET_NAME, model_name = MODEL_NAME, dd_type = DD_TYPE, num_peers = NUM_PEERS, \n",
    "            frac_peers = FRAC_PEERS, seed = SEED, test_batch_size = TEST_BATCH_SIZE,\n",
    "                criterion = CRITERION, global_rounds = GLOBAL_ROUNDS, local_epochs = LOCAL_EPOCHS, local_bs = LOCAL_BS, \n",
    "                 local_lr = LOCAL_LR, local_momentum = LOCAL_MOMENTUM, labels_dict = LABELS_DICT, device = DEVICE,\n",
    "                attackers_ratio = atr, attack_type=ATTACK_TYPE, \n",
    "                 malicious_behavior_rate = MALICIOUS_BEHAVIOR_RATE, rule = RULE,\n",
    "                source_class = SOURCE_CLASS, target_class = TARGET_CLASS,\n",
    "               class_per_peer = CLASS_PER_PEER, samples_per_class = SAMPLES_PER_CLASS, \n",
    "               rate_unbalance = RATE_UNBALANCE, alpha = ALPHA,  strategy = 's1', resume = False)"
   ]
  },
  {
   "cell_type": "code",
   "execution_count": null,
   "metadata": {},
   "outputs": [],
   "source": [
    "RULE = 'median'\n",
    "ATTACK_TYPE='gaussian_noise'\n",
    "MALICIOUS_BEHAVIOR_RATE = 1\n",
    "for atr in [0.2]:\n",
    "    run_exp(dataset_name = DATASET_NAME, model_name = MODEL_NAME, dd_type = DD_TYPE, num_peers = NUM_PEERS, \n",
    "            frac_peers = FRAC_PEERS, seed = SEED, test_batch_size = TEST_BATCH_SIZE,\n",
    "                criterion = CRITERION, global_rounds = GLOBAL_ROUNDS, local_epochs = LOCAL_EPOCHS, local_bs = LOCAL_BS, \n",
    "                 local_lr = LOCAL_LR, local_momentum = LOCAL_MOMENTUM, labels_dict = LABELS_DICT, device = DEVICE,\n",
    "                attackers_ratio = atr, attack_type=ATTACK_TYPE, \n",
    "                 malicious_behavior_rate = MALICIOUS_BEHAVIOR_RATE, rule = RULE,\n",
    "                source_class = SOURCE_CLASS, target_class = TARGET_CLASS,\n",
    "               class_per_peer = CLASS_PER_PEER, samples_per_class = SAMPLES_PER_CLASS, \n",
    "               rate_unbalance = RATE_UNBALANCE, alpha = ALPHA,  strategy = 's1', resume = False)"
   ]
  },
  {
   "cell_type": "code",
   "execution_count": null,
   "metadata": {},
   "outputs": [],
   "source": [
    "RULE = 'tmean'\n",
    "ATTACK_TYPE='gaussian_noise'\n",
    "MALICIOUS_BEHAVIOR_RATE = 1\n",
    "for atr in [0.2]:\n",
    "    run_exp(dataset_name = DATASET_NAME, model_name = MODEL_NAME, dd_type = DD_TYPE, num_peers = NUM_PEERS, \n",
    "            frac_peers = FRAC_PEERS, seed = SEED, test_batch_size = TEST_BATCH_SIZE,\n",
    "                criterion = CRITERION, global_rounds = GLOBAL_ROUNDS, local_epochs = LOCAL_EPOCHS, local_bs = LOCAL_BS, \n",
    "                 local_lr = LOCAL_LR, local_momentum = LOCAL_MOMENTUM, labels_dict = LABELS_DICT, device = DEVICE,\n",
    "                attackers_ratio = atr, attack_type=ATTACK_TYPE, \n",
    "                 malicious_behavior_rate = MALICIOUS_BEHAVIOR_RATE, rule = RULE,\n",
    "                source_class = SOURCE_CLASS, target_class = TARGET_CLASS,\n",
    "               class_per_peer = CLASS_PER_PEER, samples_per_class = SAMPLES_PER_CLASS, \n",
    "               rate_unbalance = RATE_UNBALANCE, alpha = ALPHA,  strategy = 's1', resume = False)"
   ]
  },
  {
   "cell_type": "code",
   "execution_count": null,
   "metadata": {},
   "outputs": [],
   "source": [
    "RULE = 'mkrum'\n",
    "ATTACK_TYPE='gaussian_noise'\n",
    "MALICIOUS_BEHAVIOR_RATE = 1\n",
    "for atr in [0.2]:\n",
    "    run_exp(dataset_name = DATASET_NAME, model_name = MODEL_NAME, dd_type = DD_TYPE, num_peers = NUM_PEERS, \n",
    "            frac_peers = FRAC_PEERS, seed = SEED, test_batch_size = TEST_BATCH_SIZE,\n",
    "                criterion = CRITERION, global_rounds = GLOBAL_ROUNDS, local_epochs = LOCAL_EPOCHS, local_bs = LOCAL_BS, \n",
    "                 local_lr = LOCAL_LR, local_momentum = LOCAL_MOMENTUM, labels_dict = LABELS_DICT, device = DEVICE,\n",
    "                attackers_ratio = atr, attack_type=ATTACK_TYPE, \n",
    "                 malicious_behavior_rate = MALICIOUS_BEHAVIOR_RATE, rule = RULE,\n",
    "                source_class = SOURCE_CLASS, target_class = TARGET_CLASS,\n",
    "               class_per_peer = CLASS_PER_PEER, samples_per_class = SAMPLES_PER_CLASS, \n",
    "               rate_unbalance = RATE_UNBALANCE, alpha = ALPHA,  strategy = 's1', resume = False)"
   ]
  },
  {
   "cell_type": "code",
   "execution_count": null,
   "metadata": {},
   "outputs": [],
   "source": [
    "RULE = 'foolsgold'\n",
    "ATTACK_TYPE='gaussian_noise'\n",
    "MALICIOUS_BEHAVIOR_RATE = 1\n",
    "for atr in [0.2]:\n",
    "    run_exp(dataset_name = DATASET_NAME, model_name = MODEL_NAME, dd_type = DD_TYPE, num_peers = NUM_PEERS, \n",
    "            frac_peers = FRAC_PEERS, seed = SEED, test_batch_size = TEST_BATCH_SIZE,\n",
    "                criterion = CRITERION, global_rounds = GLOBAL_ROUNDS, local_epochs = LOCAL_EPOCHS, local_bs = LOCAL_BS, \n",
    "                 local_lr = LOCAL_LR, local_momentum = LOCAL_MOMENTUM, labels_dict = LABELS_DICT, device = DEVICE,\n",
    "                attackers_ratio = atr, attack_type=ATTACK_TYPE, \n",
    "                 malicious_behavior_rate = MALICIOUS_BEHAVIOR_RATE, rule = RULE,\n",
    "                source_class = SOURCE_CLASS, target_class = TARGET_CLASS,\n",
    "               class_per_peer = CLASS_PER_PEER, samples_per_class = SAMPLES_PER_CLASS, \n",
    "               rate_unbalance = RATE_UNBALANCE, alpha = ALPHA,  strategy = 's1', resume = False)"
   ]
  },
  {
   "cell_type": "code",
   "execution_count": null,
   "metadata": {},
   "outputs": [],
   "source": [
    "RULE = 'ffl'\n",
    "ATTACK_TYPE='gaussian_noise'\n",
    "MALICIOUS_BEHAVIOR_RATE = 1\n",
    "for atr in [0.2]:\n",
    "    run_exp(dataset_name = DATASET_NAME, model_name = MODEL_NAME, dd_type = DD_TYPE, num_peers = NUM_PEERS, \n",
    "            frac_peers = FRAC_PEERS, seed = SEED, test_batch_size = TEST_BATCH_SIZE,\n",
    "                criterion = CRITERION, global_rounds = GLOBAL_ROUNDS, local_epochs = LOCAL_EPOCHS, local_bs = LOCAL_BS, \n",
    "                 local_lr = LOCAL_LR, local_momentum = LOCAL_MOMENTUM, labels_dict = LABELS_DICT, device = DEVICE,\n",
    "                attackers_ratio = atr, attack_type=ATTACK_TYPE, \n",
    "                 malicious_behavior_rate = MALICIOUS_BEHAVIOR_RATE, rule = RULE,\n",
    "                source_class = SOURCE_CLASS, target_class = TARGET_CLASS,\n",
    "               class_per_peer = CLASS_PER_PEER, samples_per_class = SAMPLES_PER_CLASS, \n",
    "               rate_unbalance = RATE_UNBALANCE, alpha = ALPHA, strategy = 's1', resume = False)"
   ]
  },
  {
   "cell_type": "code",
   "execution_count": null,
   "metadata": {},
   "outputs": [],
   "source": [
    "RULE = 'ffl'\n",
    "ATTACK_TYPE='gaussian_noise'\n",
    "MALICIOUS_BEHAVIOR_RATE = 1\n",
    "for atr in [0.2]:\n",
    "    run_exp(dataset_name = DATASET_NAME, model_name = MODEL_NAME, dd_type = DD_TYPE, num_peers = NUM_PEERS, \n",
    "            frac_peers = FRAC_PEERS, seed = SEED, test_batch_size = TEST_BATCH_SIZE,\n",
    "                criterion = CRITERION, global_rounds = GLOBAL_ROUNDS, local_epochs = LOCAL_EPOCHS, local_bs = LOCAL_BS, \n",
    "                 local_lr = LOCAL_LR, local_momentum = LOCAL_MOMENTUM, labels_dict = LABELS_DICT, device = DEVICE,\n",
    "                attackers_ratio = atr, attack_type=ATTACK_TYPE, \n",
    "                 malicious_behavior_rate = MALICIOUS_BEHAVIOR_RATE, rule = RULE,\n",
    "                source_class = SOURCE_CLASS, target_class = TARGET_CLASS,\n",
    "               class_per_peer = CLASS_PER_PEER, samples_per_class = SAMPLES_PER_CLASS, \n",
    "               rate_unbalance = RATE_UNBALANCE, alpha = ALPHA, strategy = 's2', resume = False)"
   ]
  },
  {
   "cell_type": "code",
   "execution_count": null,
   "metadata": {},
   "outputs": [
    {
     "name": "stdout",
     "output_type": "stream",
     "text": [
      "\n",
      "--> Starting experiment...\n",
      "--> Loading of MNIST dataset\n",
      "--> Dataset has been loaded!\n",
      "--> Creating CNNMNIST model.....\n",
      "--> Model has been created!\n",
      "--> Distributing training data among peers\n",
      "--> Training data have been distributed among peers\n",
      "--> Creating peers instances\n",
      "# of peers who have source class examples: 100\n"
     ]
    },
    {
     "name": "stderr",
     "output_type": "stream",
     "text": [
      "E:\\anaconda\\envs\\fragments\\lib\\site-packages\\torchvision\\datasets\\mnist.py:52: UserWarning: train_labels has been renamed targets\n",
      "  warnings.warn(\"train_labels has been renamed targets\")\n"
     ]
    },
    {
     "name": "stdout",
     "output_type": "stream",
     "text": [
      "Data set: MNIST\n",
      "Data distribution: IID\n",
      "Aggregation rule: fdfl\n",
      "Attack Type: gaussian_noise\n",
      "Attackers Ratio: 20.0 %\n",
      "Malicious Behavior Rate: 100 %\n",
      "Attack Strategy: s2\n",
      "\n",
      "===>Simulation started...\n",
      "\n",
      "====>Global model training started...\n",
      "\n"
     ]
    },
    {
     "data": {
      "application/vnd.jupyter.widget-view+json": {
       "model_id": "333493a654cb40a08fd5d8ca8d25d72c",
       "version_major": 2,
       "version_minor": 0
      },
      "text/plain": [
       "  0%|          | 0/200 [00:00<?, ?it/s]"
      ]
     },
     "metadata": {},
     "output_type": "display_data"
    },
    {
     "name": "stdout",
     "output_type": "stream",
     "text": [
      "\n",
      " | Global training round : 1/200 |\n",
      "\n",
      "8 gaussian_noise attack ！\n",
      "12 gaussian_noise attack ！\n",
      "13 gaussian_noise attack ！\n",
      "21 gaussian_noise attack ！\n",
      "24 gaussian_noise attack ！\n",
      "28 gaussian_noise attack ！\n",
      "29 gaussian_noise attack ！\n",
      "32 gaussian_noise attack ！\n",
      "34 gaussian_noise attack ！\n",
      "43 gaussian_noise attack ！\n",
      "46 gaussian_noise attack ！\n",
      "57 gaussian_noise attack ！\n",
      "60 gaussian_noise attack ！\n",
      "75 gaussian_noise attack ！\n",
      "87 gaussian_noise attack ！\n"
     ]
    }
   ],
   "source": [
    "RULE = 'fdfl'\n",
    "ATTACK_TYPE='gaussian_noise'\n",
    "MALICIOUS_BEHAVIOR_RATE = 1\n",
    "for atr in [0.2]:\n",
    "    run_exp(dataset_name = DATASET_NAME, model_name = MODEL_NAME, dd_type = DD_TYPE, num_peers = NUM_PEERS, \n",
    "            frac_peers = FRAC_PEERS, seed = SEED, test_batch_size = TEST_BATCH_SIZE,\n",
    "                criterion = CRITERION, global_rounds = GLOBAL_ROUNDS, local_epochs = LOCAL_EPOCHS, local_bs = LOCAL_BS, \n",
    "                 local_lr = LOCAL_LR, local_momentum = LOCAL_MOMENTUM, labels_dict = LABELS_DICT, device = DEVICE,\n",
    "                attackers_ratio = atr, attack_type=ATTACK_TYPE, \n",
    "                 malicious_behavior_rate = MALICIOUS_BEHAVIOR_RATE, rule = RULE,\n",
    "                source_class = SOURCE_CLASS, target_class = TARGET_CLASS,\n",
    "               class_per_peer = CLASS_PER_PEER, samples_per_class = SAMPLES_PER_CLASS, \n",
    "               rate_unbalance = RATE_UNBALANCE, alpha = ALPHA, strategy = 's2', resume = False)"
   ]
  },
  {
   "cell_type": "code",
   "execution_count": null,
   "metadata": {},
   "outputs": [],
   "source": []
  }
 ],
 "metadata": {
  "kernelspec": {
   "display_name": "Python (fragments)",
   "language": "python",
   "name": "fragments"
  },
  "language_info": {
   "codemirror_mode": {
    "name": "ipython",
    "version": 3
   },
   "file_extension": ".py",
   "mimetype": "text/x-python",
   "name": "python",
   "nbconvert_exporter": "python",
   "pygments_lexer": "ipython3",
   "version": "3.6.9"
  }
 },
 "nbformat": 4,
 "nbformat_minor": 2
}
